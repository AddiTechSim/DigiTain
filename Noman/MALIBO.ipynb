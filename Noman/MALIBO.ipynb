{
 "cells": [
  {
   "cell_type": "markdown",
   "id": "c46d40aa-f237-40f0-a90f-cb227c361661",
   "metadata": {},
   "source": [
    "## Implementing MALIBO "
   ]
  },
  {
   "cell_type": "code",
   "execution_count": 1,
   "id": "9452751e-7a5a-4da2-a760-27da1feffd15",
   "metadata": {},
   "outputs": [],
   "source": [
    "#importing libraries\n",
    "import numpy as np\n",
    "from skopt import gp_minimize\n",
    "from skopt.space import Real,Integer\n",
    "from skopt.utils import use_named_args\n",
    "from sklearn.ensemble import RandomForestClassifier\n",
    "from sklearn.model_selection import cross_val_score"
   ]
  },
  {
   "cell_type": "code",
   "execution_count": 4,
   "id": "54f0f11f-68bf-4844-b731-e99063a79271",
   "metadata": {},
   "outputs": [],
   "source": [
    "#define a sample black box fuunction\n",
    "def black_box(x):\n",
    "    return np.sin(5 * x[0]) * (1 - np.tanh(x[0]**2))"
   ]
  },
  {
   "cell_type": "code",
   "execution_count": 9,
   "id": "9bba67db-5dda-4037-8686-8b3a111766e8",
   "metadata": {},
   "outputs": [],
   "source": [
    "#define the search space\n",
    "space = [\n",
    "    Real(-2.0,2.0, name='x')   \n",
    "]"
   ]
  },
  {
   "cell_type": "code",
   "execution_count": 5,
   "id": "0bac67c8-b6c5-4c42-9431-f8ea60a7dc30",
   "metadata": {},
   "outputs": [],
   "source": [
    "@use_named_args(space)\n",
    "def objective(x):\n",
    "    return black_box(x)"
   ]
  },
  {
   "cell_type": "code",
   "execution_count": 10,
   "id": "981f24bd-30b1-4da6-a303-0f3c6c205d96",
   "metadata": {},
   "outputs": [
    {
     "ename": "TypeError",
     "evalue": "'float' object is not subscriptable",
     "output_type": "error",
     "traceback": [
      "\u001b[1;31m---------------------------------------------------------------------------\u001b[0m",
      "\u001b[1;31mTypeError\u001b[0m                                 Traceback (most recent call last)",
      "Cell \u001b[1;32mIn[10], line 1\u001b[0m\n\u001b[1;32m----> 1\u001b[0m result \u001b[38;5;241m=\u001b[39m gp_minimize(objective,space, n_calls\u001b[38;5;241m=\u001b[39m\u001b[38;5;241m50\u001b[39m, random_state\u001b[38;5;241m=\u001b[39m\u001b[38;5;241m42\u001b[39m)\n\u001b[0;32m      2\u001b[0m \u001b[38;5;28mprint\u001b[39m(\u001b[38;5;124m\"\u001b[39m\u001b[38;5;124mBest score=\u001b[39m\u001b[38;5;132;01m%.4f\u001b[39;00m\u001b[38;5;124m\"\u001b[39m \u001b[38;5;241m%\u001b[39mresult\u001b[38;5;241m.\u001b[39mfun)\n\u001b[0;32m      3\u001b[0m \u001b[38;5;28mprint\u001b[39m(\u001b[38;5;124m\"\u001b[39m\u001b[38;5;124mBest Parameters\u001b[39m\u001b[38;5;124m%\u001b[39m\u001b[38;5;124m\"\u001b[39m\u001b[38;5;241m%\u001b[39mresult\u001b[38;5;241m.\u001b[39mx)\n",
      "File \u001b[1;32m~\\anaconda3\\Lib\\site-packages\\skopt\\optimizer\\gp.py:281\u001b[0m, in \u001b[0;36mgp_minimize\u001b[1;34m(func, dimensions, base_estimator, n_calls, n_random_starts, n_initial_points, initial_point_generator, acq_func, acq_optimizer, x0, y0, random_state, verbose, callback, n_points, n_restarts_optimizer, xi, kappa, noise, n_jobs, model_queue_size, space_constraint)\u001b[0m\n\u001b[0;32m    273\u001b[0m \u001b[38;5;28;01mif\u001b[39;00m base_estimator \u001b[38;5;129;01mis\u001b[39;00m \u001b[38;5;28;01mNone\u001b[39;00m:\n\u001b[0;32m    274\u001b[0m     base_estimator \u001b[38;5;241m=\u001b[39m cook_estimator(\n\u001b[0;32m    275\u001b[0m         \u001b[38;5;124m\"\u001b[39m\u001b[38;5;124mGP\u001b[39m\u001b[38;5;124m\"\u001b[39m,\n\u001b[0;32m    276\u001b[0m         space\u001b[38;5;241m=\u001b[39mspace,\n\u001b[0;32m    277\u001b[0m         random_state\u001b[38;5;241m=\u001b[39mrng\u001b[38;5;241m.\u001b[39mrandint(\u001b[38;5;241m0\u001b[39m, np\u001b[38;5;241m.\u001b[39miinfo(np\u001b[38;5;241m.\u001b[39mint32)\u001b[38;5;241m.\u001b[39mmax),\n\u001b[0;32m    278\u001b[0m         noise\u001b[38;5;241m=\u001b[39mnoise,\n\u001b[0;32m    279\u001b[0m     )\n\u001b[1;32m--> 281\u001b[0m \u001b[38;5;28;01mreturn\u001b[39;00m base_minimize(\n\u001b[0;32m    282\u001b[0m     func,\n\u001b[0;32m    283\u001b[0m     space,\n\u001b[0;32m    284\u001b[0m     base_estimator\u001b[38;5;241m=\u001b[39mbase_estimator,\n\u001b[0;32m    285\u001b[0m     acq_func\u001b[38;5;241m=\u001b[39macq_func,\n\u001b[0;32m    286\u001b[0m     xi\u001b[38;5;241m=\u001b[39mxi,\n\u001b[0;32m    287\u001b[0m     kappa\u001b[38;5;241m=\u001b[39mkappa,\n\u001b[0;32m    288\u001b[0m     acq_optimizer\u001b[38;5;241m=\u001b[39macq_optimizer,\n\u001b[0;32m    289\u001b[0m     n_calls\u001b[38;5;241m=\u001b[39mn_calls,\n\u001b[0;32m    290\u001b[0m     n_points\u001b[38;5;241m=\u001b[39mn_points,\n\u001b[0;32m    291\u001b[0m     n_random_starts\u001b[38;5;241m=\u001b[39mn_random_starts,\n\u001b[0;32m    292\u001b[0m     n_initial_points\u001b[38;5;241m=\u001b[39mn_initial_points,\n\u001b[0;32m    293\u001b[0m     initial_point_generator\u001b[38;5;241m=\u001b[39minitial_point_generator,\n\u001b[0;32m    294\u001b[0m     n_restarts_optimizer\u001b[38;5;241m=\u001b[39mn_restarts_optimizer,\n\u001b[0;32m    295\u001b[0m     x0\u001b[38;5;241m=\u001b[39mx0,\n\u001b[0;32m    296\u001b[0m     y0\u001b[38;5;241m=\u001b[39my0,\n\u001b[0;32m    297\u001b[0m     random_state\u001b[38;5;241m=\u001b[39mrng,\n\u001b[0;32m    298\u001b[0m     verbose\u001b[38;5;241m=\u001b[39mverbose,\n\u001b[0;32m    299\u001b[0m     space_constraint\u001b[38;5;241m=\u001b[39mspace_constraint,\n\u001b[0;32m    300\u001b[0m     callback\u001b[38;5;241m=\u001b[39mcallback,\n\u001b[0;32m    301\u001b[0m     n_jobs\u001b[38;5;241m=\u001b[39mn_jobs,\n\u001b[0;32m    302\u001b[0m     model_queue_size\u001b[38;5;241m=\u001b[39mmodel_queue_size,\n\u001b[0;32m    303\u001b[0m )\n",
      "File \u001b[1;32m~\\anaconda3\\Lib\\site-packages\\skopt\\optimizer\\base.py:332\u001b[0m, in \u001b[0;36mbase_minimize\u001b[1;34m(func, dimensions, base_estimator, n_calls, n_random_starts, n_initial_points, initial_point_generator, acq_func, acq_optimizer, x0, y0, random_state, verbose, callback, n_points, n_restarts_optimizer, xi, kappa, n_jobs, model_queue_size, space_constraint)\u001b[0m\n\u001b[0;32m    330\u001b[0m \u001b[38;5;28;01mfor\u001b[39;00m _ \u001b[38;5;129;01min\u001b[39;00m \u001b[38;5;28mrange\u001b[39m(n_calls):\n\u001b[0;32m    331\u001b[0m     next_x \u001b[38;5;241m=\u001b[39m optimizer\u001b[38;5;241m.\u001b[39mask()\n\u001b[1;32m--> 332\u001b[0m     next_y \u001b[38;5;241m=\u001b[39m func(next_x)\n\u001b[0;32m    333\u001b[0m     result \u001b[38;5;241m=\u001b[39m optimizer\u001b[38;5;241m.\u001b[39mtell(next_x, next_y)\n\u001b[0;32m    334\u001b[0m     result\u001b[38;5;241m.\u001b[39mspecs \u001b[38;5;241m=\u001b[39m specs\n",
      "File \u001b[1;32m~\\anaconda3\\Lib\\site-packages\\skopt\\utils.py:779\u001b[0m, in \u001b[0;36muse_named_args.<locals>.decorator.<locals>.wrapper\u001b[1;34m(x)\u001b[0m\n\u001b[0;32m    776\u001b[0m arg_dict \u001b[38;5;241m=\u001b[39m {dim\u001b[38;5;241m.\u001b[39mname: value \u001b[38;5;28;01mfor\u001b[39;00m dim, value \u001b[38;5;129;01min\u001b[39;00m \u001b[38;5;28mzip\u001b[39m(dimensions, x)}\n\u001b[0;32m    778\u001b[0m \u001b[38;5;66;03m# Call the wrapped objective function with the named arguments.\u001b[39;00m\n\u001b[1;32m--> 779\u001b[0m objective_value \u001b[38;5;241m=\u001b[39m func(\u001b[38;5;241m*\u001b[39m\u001b[38;5;241m*\u001b[39marg_dict)\n\u001b[0;32m    781\u001b[0m \u001b[38;5;28;01mreturn\u001b[39;00m objective_value\n",
      "Cell \u001b[1;32mIn[5], line 3\u001b[0m, in \u001b[0;36mobjective\u001b[1;34m(x)\u001b[0m\n\u001b[0;32m      1\u001b[0m \u001b[38;5;129m@use_named_args\u001b[39m(space)\n\u001b[0;32m      2\u001b[0m \u001b[38;5;28;01mdef\u001b[39;00m \u001b[38;5;21mobjective\u001b[39m(x):\n\u001b[1;32m----> 3\u001b[0m     \u001b[38;5;28;01mreturn\u001b[39;00m black_box(x)\n",
      "Cell \u001b[1;32mIn[4], line 3\u001b[0m, in \u001b[0;36mblack_box\u001b[1;34m(x)\u001b[0m\n\u001b[0;32m      2\u001b[0m \u001b[38;5;28;01mdef\u001b[39;00m \u001b[38;5;21mblack_box\u001b[39m(x):\n\u001b[1;32m----> 3\u001b[0m     \u001b[38;5;28;01mreturn\u001b[39;00m np\u001b[38;5;241m.\u001b[39msin(\u001b[38;5;241m5\u001b[39m \u001b[38;5;241m*\u001b[39m x[\u001b[38;5;241m0\u001b[39m]) \u001b[38;5;241m*\u001b[39m (\u001b[38;5;241m1\u001b[39m \u001b[38;5;241m-\u001b[39m np\u001b[38;5;241m.\u001b[39mtanh(x[\u001b[38;5;241m0\u001b[39m]\u001b[38;5;241m*\u001b[39m\u001b[38;5;241m*\u001b[39m\u001b[38;5;241m2\u001b[39m))\n",
      "\u001b[1;31mTypeError\u001b[0m: 'float' object is not subscriptable"
     ]
    }
   ],
   "source": [
    "result = gp_minimize(objective,space, n_calls=50, random_state=42)\n",
    "print(\"Best score=%.4f\" %result.fun)\n",
    "print(\"Best Parameters%\"%result.x)"
   ]
  },
  {
   "cell_type": "code",
   "execution_count": null,
   "id": "f6e579b0-e5c5-496e-9ae9-7f2f8732c27c",
   "metadata": {},
   "outputs": [],
   "source": []
  }
 ],
 "metadata": {
  "kernelspec": {
   "display_name": "Python 3 (ipykernel)",
   "language": "python",
   "name": "python3"
  },
  "language_info": {
   "codemirror_mode": {
    "name": "ipython",
    "version": 3
   },
   "file_extension": ".py",
   "mimetype": "text/x-python",
   "name": "python",
   "nbconvert_exporter": "python",
   "pygments_lexer": "ipython3",
   "version": "3.11.9"
  }
 },
 "nbformat": 4,
 "nbformat_minor": 5
}
